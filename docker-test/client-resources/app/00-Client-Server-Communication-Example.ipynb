{
 "cells": [
  {
   "cell_type": "markdown",
   "id": "ca0acaea",
   "metadata": {},
   "source": [
    "# Client-Server Communication Example\n",
    "\n"
   ]
  },
  {
   "cell_type": "code",
   "execution_count": 1,
   "id": "1d0f08cc",
   "metadata": {},
   "outputs": [],
   "source": [
    "\n",
    "server_name = \"armory-gpu\"  # In the future there will be a \"cpu\" version as well.\n",
    "server_port = 9999          # Should probably use certs\n"
   ]
  },
  {
   "cell_type": "code",
   "execution_count": 3,
   "id": "d55f6d8f",
   "metadata": {},
   "outputs": [
    {
     "name": "stdout",
     "output_type": "stream",
     "text": [
      "http://armory-gpu:9999\n",
      "['__attrs__', '__bool__', '__class__', '__delattr__', '__dict__', '__dir__', '__doc__', '__enter__', '__eq__', '__exit__', '__format__', '__ge__', '__getattribute__', '__getstate__', '__gt__', '__hash__', '__init__', '__init_subclass__', '__iter__', '__le__', '__lt__', '__module__', '__ne__', '__new__', '__nonzero__', '__reduce__', '__reduce_ex__', '__repr__', '__setattr__', '__setstate__', '__sizeof__', '__str__', '__subclasshook__', '__weakref__', '_content', '_content_consumed', '_next', 'apparent_encoding', 'close', 'connection', 'content', 'cookies', 'elapsed', 'encoding', 'headers', 'history', 'is_permanent_redirect', 'is_redirect', 'iter_content', 'iter_lines', 'json', 'links', 'next', 'ok', 'raise_for_status', 'raw', 'reason', 'request', 'status_code', 'text', 'url']\n"
     ]
    }
   ],
   "source": [
    "# REST API\n",
    "import requests\n",
    "\n",
    "print(f\"http://{server_name}:{server_port}\")\n",
    "\n",
    "r = requests.get(f\"http://{server_name}:{server_port}\")\n",
    "\n",
    "print(r.status_code)\n",
    "print(r.text)\n"
   ]
  },
  {
   "cell_type": "code",
   "execution_count": null,
   "id": "8012079f",
   "metadata": {},
   "outputs": [],
   "source": [
    "\n",
    "# Socket Server\n",
    "\n",
    "import socket\n",
    "\n",
    "# server_address = socket.gethostbyname(server_name)\n",
    "\n",
    "with socket.socket(socket.AF_INET, socket.SOCK_STREAM) as s:\n",
    "    s.connect((server_name, server_port))\n",
    "    s.sendall(b\"Hello, world\")\n",
    "    data = s.recv(1024)\n",
    "\n",
    "print(f\"Received {data!r}\")\n",
    "\n"
   ]
  },
  {
   "cell_type": "code",
   "execution_count": null,
   "id": "1dec6eaf",
   "metadata": {},
   "outputs": [],
   "source": []
  }
 ],
 "metadata": {
  "kernelspec": {
   "display_name": "Python 3 (ipykernel)",
   "language": "python",
   "name": "python3"
  },
  "language_info": {
   "codemirror_mode": {
    "name": "ipython",
    "version": 3
   },
   "file_extension": ".py",
   "mimetype": "text/x-python",
   "name": "python",
   "nbconvert_exporter": "python",
   "pygments_lexer": "ipython3",
   "version": "3.8.13"
  }
 },
 "nbformat": 4,
 "nbformat_minor": 5
}
