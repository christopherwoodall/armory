{
  "cells": [
    {
      "cell_type": "markdown",
      "metadata": {
        "id": "fJ8Q_5YP_BS3"
      },
      "source": [
        "# Running An Armory Notebook [![Open In Colab](https://colab.research.google.com/assets/colab-badge.svg)](https://colab.research.google.com/github/twosixlabs/armory/blob/master/notebooks/running_an_armory_notebook.ipynb)\n",
        "\n",
        "In this tutorial, we'll demonstrate how to run Armory scenarios interactively, export and visualize data examples, and more. We'll use the CARLA object detection scenario as an example, although what follows is instructive for using Armory in general.\n"
      ]
    },
    {
      "cell_type": "markdown",
      "metadata": {
        "id": "oB04CcTSX5ks"
      },
      "source": [
        "# Setup & Installation\n",
        "\n",
        "Armory comes in a variety of formats- from a container, to a python package, and even a git repo- and can be installed in a number of configurations. \n",
        "\n",
        "## Google Colab\n",
        "Below is an example *kickstart* script to get `armory` running in Google Colab."
      ]
    },
    {
      "cell_type": "code",
      "execution_count": null,
      "metadata": {
        "id": "MG4yl9jMXeVA"
      },
      "outputs": [],
      "source": [
        "%%bash\n",
        "# Only execute this cell if you are running this notebook in Google Colab\n",
        "\n",
        "if [ ! -d armory ]; then\n",
        "  mkdir -p armory-repo\n",
        "  pushd armory-repo\n",
        "    git clone https://github.com/twosixlabs/armory.git .\n",
        "  popd\n",
        "  cp -r armory-repo/* .\n",
        "fi\n",
        "\n",
        "pip install --upgrade pip\n",
        "pip install armory-testbed[developer,engine,datasets,pytorch,tensorflow]"
      ]
    },
    {
      "cell_type": "markdown",
      "metadata": {
        "id": "AvNs4AxxZ3Nr"
      },
      "source": [
        "### Loading the Scenario\n",
        "To load the scenario, we use Armory's `get()` function in `armory.scenarios.main`. The filepath used below is an example, and you'll receive the specific path logged to console after invoking `armory run`.\n",
        "\n",
        "Calling `load()` will load the pieces (model, dataset, attack, etc.) necessary to run the scenario."
      ]
    },
    {
      "cell_type": "code",
      "execution_count": null,
      "metadata": {
        "colab": {
          "base_uri": "https://localhost:8080/"
        },
        "id": "N731Xgg7CiJe",
        "outputId": "773691ea-04df-4768-caa2-ac0010941153"
      },
      "outputs": [
        {
          "name": "stdout",
          "output_type": "stream",
          "text": [
            "2022-11-03 16:28:49 16m20s \u001b[31m\u001b[1mERROR   \u001b[0m \u001b[36marmory.scenarios.main\u001b[0m:\u001b[36m_scenario_setup\u001b[0m:\u001b[36m41\u001b[0m eval_id not in config. Inserting current timestamp 1667492929.0279355\n",
            "2022-11-03 16:28:49 16m20s \u001b[1mINFO    \u001b[0m \u001b[36marmory.scenarios.main\u001b[0m:\u001b[36m_scenario_setup\u001b[0m:\u001b[36m49\u001b[0m armory outputs and logs will be written to /armory/outputs/1667492929.0279355\n",
            "2022-11-03 16:28:52 16m24s \u001b[1mINFO    \u001b[0m \u001b[36marmory.utils.external_repo\u001b[0m:\u001b[36mdownload_and_extract_repo\u001b[0m:\u001b[36m129\u001b[0m Downloading external repo: colour-science/colour@v0.3.16\n",
            "2022-11-03 16:28:53 16m25s \u001b[1mINFO    \u001b[0m \u001b[36marmory.data.utils\u001b[0m:\u001b[36mmaybe_download_weights_from_s3\u001b[0m:\u001b[36m47\u001b[0m Using available carla_rgb_weights_eval5.pt in Armory `saved_model_dir`\n",
            "2022-11-03 16:28:56 16m28s \u001b[1mINFO    \u001b[0m \u001b[36marmory.scenarios.scenario\u001b[0m:\u001b[36mload_dataset\u001b[0m:\u001b[36m205\u001b[0m Loading test dataset carla_obj_det_dev...\n"
          ]
        }
      ],
      "source": [
        "import armory\n",
        "from armory.scenarios.main import get as get_scenario\n",
        "\n",
        "s = get_scenario(\n",
        "      \"./scenario_configs/eval5/carla_object_detection/carla_obj_det_dpatch_undefended.json\"\n",
        "    ).load()"
      ]
    },
    {
      "cell_type": "markdown",
      "metadata": {
        "id": "4JiqpXw2SJ4Y"
      },
      "source": [
        "### Running the Scenario\n",
        "\n",
        "Now that we've instatiated the scenario object, we could simply call `s.evaluate()` to run the entire scenario from start to finish. However, in this tutorial, we'll demonstrate how to run the scenario in a step-by-step fashion.\n",
        "\n",
        "To grab our first batch of data, we call the scenario's `next()` method. At this point, we can now access `x` and `y` as attributes of the scenario object, as well as `i` for the batch index:\n"
      ]
    },
    {
      "cell_type": "code",
      "execution_count": null,
      "metadata": {
        "colab": {
          "base_uri": "https://localhost:8080/"
        },
        "id": "GeWGcUk-NJ_I",
        "outputId": "c0661058-b61e-47d8-9732-7462928481ec"
      },
      "outputs": [
        {
          "data": {
            "text/plain": [
              "(1, 960, 1280, 3)"
            ]
          },
          "execution_count": 18,
          "metadata": {},
          "output_type": "execute_result"
        }
      ],
      "source": [
        "s.next()\n",
        "s.x.shape"
      ]
    },
    {
      "cell_type": "markdown",
      "metadata": {
        "id": "990TptyYSb9M"
      },
      "source": [
        "\n",
        "Armory scenarios, at a high level, execute in the following manner:\n",
        "\n",
        "1. Load the next batch of data\n",
        "2. Predict on the benign sample\n",
        "3. Generate an adversarial sample and make a prediction on it\n",
        "\n",
        "We did step 1 when we called `s.next()` earlier. To predict on the benign sample, we can call `s.run_benign()`. Similarly for step 3, we call `s.run_attack()`. Calling `s.evaluate_current()` would call both of these methods, but in this example we'll run each step one at a time:"
      ]
    },
    {
      "cell_type": "code",
      "execution_count": null,
      "metadata": {
        "id": "apimEb8ySdOh"
      },
      "outputs": [],
      "source": [
        "s.run_benign()"
      ]
    },
    {
      "cell_type": "markdown",
      "metadata": {
        "id": "29d5Jk7tamVO"
      },
      "source": [
        "#### Prediction\n",
        "\n",
        "The benign prediction is now accessible via the `y_pred` attribute:"
      ]
    },
    {
      "cell_type": "code",
      "execution_count": null,
      "metadata": {
        "id": "IK_vD2weT3CB"
      },
      "outputs": [],
      "source": [
        "s.y_pred"
      ]
    },
    {
      "cell_type": "markdown",
      "metadata": {
        "id": "R80NxhkIaw8i"
      },
      "source": [
        "# Attack\n",
        "\n",
        "Next, we run the attack. For the sake of brevity in this tutorial, we'll modify the `\"max_iter\"` parameter of the attack first:"
      ]
    },
    {
      "cell_type": "code",
      "execution_count": null,
      "metadata": {
        "colab": {
          "base_uri": "https://localhost:8080/",
          "height": 49,
          "referenced_widgets": [
            "8357debfcc554d409e82ffc43c6c6395",
            "e956c9ed2ba74a9c8c31d5a8a29dc7d5",
            "0c3019e915814aba9bfe004aa3d37711",
            "50cdb87f43664112bbe9fd7815a3a31c",
            "73ca8fd5fa5a453f995a01df5b77a2d7",
            "65c45c8fc6b2432199f88c4fe83dbe1c",
            "33861620027b409eaaf9963b3196525e",
            "f58a5250d36b40148f78351567ee0218",
            "2387afba2e2b4f96ad418f02bb1de8c1",
            "86164d218e9d4078bea5b506d115b3c7",
            "9eb98744d5234fef8abacb2684f39f50"
          ]
        },
        "id": "GJ6CamtVT21Z",
        "outputId": "793fde33-04d5-43f9-87a7-40d267cb645d"
      },
      "outputs": [
        {
          "data": {
            "application/vnd.jupyter.widget-view+json": {
              "model_id": "8357debfcc554d409e82ffc43c6c6395",
              "version_major": 2,
              "version_minor": 0
            },
            "text/plain": [
              "RobustDPatch iteration:   0%|          | 0/5 [00:00<?, ?it/s]"
            ]
          },
          "metadata": {},
          "output_type": "display_data"
        }
      ],
      "source": [
        "s.config[\"attack\"][\"kwargs\"][\"max_iter\"] = 5\n",
        "s.load_attack()\n",
        "\n",
        "s.run_attack()"
      ]
    },
    {
      "cell_type": "markdown",
      "metadata": {
        "id": "mppNLeT1a2Jy"
      },
      "source": [
        "At this point, we can access the adversarial sample via the `x_adv` attribute:"
      ]
    },
    {
      "cell_type": "code",
      "execution_count": null,
      "metadata": {
        "colab": {
          "base_uri": "https://localhost:8080/"
        },
        "id": "Onw0sbteT-QO",
        "outputId": "4864985b-3d71-4006-cf07-5a71555c2914"
      },
      "outputs": [
        {
          "data": {
            "text/plain": [
              "(1, 960, 1280, 3)"
            ]
          },
          "execution_count": 22,
          "metadata": {},
          "output_type": "execute_result"
        }
      ],
      "source": [
        "s.x_adv.shape"
      ]
    },
    {
      "cell_type": "markdown",
      "metadata": {
        "id": "ohQWXu-_a7dC"
      },
      "source": [
        "To continue this process, we could keep calling `s.next()` followed by `s.run_benign()` and `s.run_attack()`. Once we'd like to close out the experiment, we could then call `s.finalize_results()` and observe the logged results. Instead, in the following section we'll show how to export and view data examples."
      ]
    },
    {
      "cell_type": "markdown",
      "metadata": {
        "id": "YLP-9B6Xa8BH"
      },
      "source": [
        "## Exporting and Viewing Data Examples\n",
        "\n",
        "#### Exporting Data\n",
        "Here we will show how to export data examples using the `sample_exporter` object. By \"export\", we mean write examples (.png, .wav, .mp4, etc. depending on the scenario) to the `~/.armory` experiment output directory. \n",
        "\n",
        "Each scenario object contains a `sample_exporter` which implements an `export()` method taking the following inputs:\n",
        "\n",
        "```\n",
        "def export(self, x, basename, **kwargs):\n",
        "```\n",
        "\n",
        "In the simplest case, to export the raw inputs without any annotation (e.g. bounding boxes), we can call the following (note that the `with_boxes` kwarg is specific to object detection scenarios):"
      ]
    },
    {
      "cell_type": "markdown",
      "metadata": {
        "id": "ymBKUr2ZbNIj"
      },
      "source": [
        "The print statement was added to show the location of the Armory scenario output directory. If running in docker, note that this is the path inside the container and that the container path `/armory` should map to the host path `~/.armory`.\n",
        "\n",
        "Now looking inside the scenario output directory, we see the image we just exported.\n",
        "\n",
        "```\n",
        "I have no name!@b24233d4dd79:/workspace$ ls /armory/outputs/2022-05-23T153707.378169/saved_samples\n",
        "benign_x_batch_0.png\n",
        "\n",
        "```"
      ]
    },
    {
      "cell_type": "code",
      "execution_count": null,
      "metadata": {
        "colab": {
          "base_uri": "https://localhost:8080/"
        },
        "id": "fvWGnlzlT-Lu",
        "outputId": "7c8d6f12-973e-4ad2-a42b-1fc8b671f200"
      },
      "outputs": [
        {
          "name": "stdout",
          "output_type": "stream",
          "text": [
            "/armory/outputs/1667492929.0279355/saved_samples\n"
          ]
        }
      ],
      "source": [
        "batch_number = s.i\n",
        "s.sample_exporter.export(s.x[0], f\"benign_x_batch_{batch_number}\", with_boxes=False)\n",
        "\n",
        "print(s.sample_exporter.output_dir)"
      ]
    },
    {
      "cell_type": "markdown",
      "metadata": {
        "id": "-2gkGt1DbU6B"
      },
      "source": [
        "This next part is specific to object detection, but to save the image with ground-truth and predicted boxes we can pass `y` and `y_pred` kwargs to the `export()` call:"
      ]
    },
    {
      "cell_type": "code",
      "execution_count": null,
      "metadata": {
        "id": "dtJrBaxGT-FC"
      },
      "outputs": [],
      "source": [
        "s.sample_exporter.export(\n",
        "    s.x[0],\n",
        "    f\"benign_x_batch_{batch_number}_with_boxes\",\n",
        "    y=s.y[0],\n",
        "    y_pred=s.y_pred[0],\n",
        "    with_boxes=True,\n",
        ")"
      ]
    },
    {
      "cell_type": "markdown",
      "metadata": {
        "id": "xb4TUYoPbahj"
      },
      "source": [
        "#### Viewing Data\n",
        "\n",
        "The `sample_exporter` class also makes it easy to retrieve viewable examples, specifically PIL objects in the case of image-related scenarios. These can be accessed via the `sample_exporter`'s `get_sample()` method which typically takes in a single input `x`. For scenarios with bounding boxes, this method also optionally takes in `y`, `y_pred`, and a boolean `with_boxes`. "
      ]
    },
    {
      "cell_type": "code",
      "execution_count": null,
      "metadata": {
        "id": "WsE6Jd00bazC"
      },
      "outputs": [],
      "source": [
        "x_pil = s.sample_exporter.get_sample(\n",
        "    s.x[0], y=s.y[0], y_pred=s.y_pred[0], with_boxes=True\n",
        ")\n",
        "x_adv_pil = s.sample_exporter.get_sample(\n",
        "    s.x_adv[0], y=s.y[0], y_pred=s.y_pred_adv[0], with_boxes=True\n",
        ")"
      ]
    },
    {
      "cell_type": "markdown",
      "metadata": {
        "id": "PCN8BjwhblIr"
      },
      "source": [
        "Now we can use Jupyter's built-in `display()` function to view the images:"
      ]
    },
    {
      "cell_type": "code",
      "execution_count": null,
      "metadata": {
        "colab": {
          "base_uri": "https://localhost:8080/",
          "height": 396,
          "referenced_widgets": [
            "95272ac8d3b244e687d37334922c735a",
            "8dc6a818ef034c4c8fafcd7ca2b94ec9",
            "502f6cf5af5f4643aaee03a44dd3d431",
            "47c34300a11c4bb5b9a6178e5ffe88fa",
            "d1238de130e54b45afac04cc8c3f8665",
            "23fde7c55f4643dbba8f2b6af7abe9ca"
          ]
        },
        "id": "_cA81WhAbbQY",
        "outputId": "ceb9e075-4959-492a-fb8a-4c62c9c6d25a"
      },
      "outputs": [
        {
          "data": {
            "application/vnd.jupyter.widget-view+json": {
              "model_id": "95272ac8d3b244e687d37334922c735a",
              "version_major": 2,
              "version_minor": 0
            },
            "text/plain": [
              "HBox(children=(Image(value=b'\\xff\\xd8\\xff\\xe0\\x00\\x10JFIF\\x00\\x01\\x01\\x00\\x00\\x01\\x00\\x01\\x00\\x00\\xff\\xdb\\x00C…"
            ]
          },
          "metadata": {},
          "output_type": "display_data"
        }
      ],
      "source": [
        "import io\n",
        "import IPython.display as display\n",
        "import ipywidgets as widgets\n",
        "\n",
        "def image_to_byte_array(image):\n",
        "  img_byte_arr = io.BytesIO()\n",
        "  image.save(img_byte_arr, format='JPEG')\n",
        "  return img_byte_arr.getvalue()\n",
        "\n",
        "\n",
        "x_widget = widgets.Image(\n",
        "      value=image_to_byte_array(x_pil),\n",
        "      format='jpg',\n",
        "      width=500,\n",
        "      height=500\n",
        "    )\n",
        "\n",
        "x_adv_widget = widgets.Image(\n",
        "      value=image_to_byte_array(x_adv_pil),\n",
        "      format='jpg',\n",
        "      width=500,\n",
        "      height=500\n",
        "    )\n",
        "\n",
        "display.display(widgets.HBox([x_widget, x_adv_widget]))"
      ]
    },
    {
      "cell_type": "markdown",
      "metadata": {
        "id": "K4pe8_YhbbFb"
      },
      "source": [
        "## Finishing the Experiment\n",
        "\n",
        "If you'd like to run the experiment over the rest of the data examples, simply call `s.evaluate()`. Doing so will complete the rest of the evaluation, prepare and finalize the results, and write the results JSON to the Armory scenario output directory.\n",
        "\n",
        "If instead you'd like to finish the experiment at its current step, call `s.finalize_results()` which logs the experiment results to console."
      ]
    },
    {
      "cell_type": "code",
      "execution_count": null,
      "metadata": {
        "colab": {
          "base_uri": "https://localhost:8080/"
        },
        "id": "QMT1iruneTCz",
        "outputId": "d996f6b3-b83b-4431-cf40-cf64a7a38233"
      },
      "outputs": [
        {
          "name": "stdout",
          "output_type": "stream",
          "text": [
            "2022-11-03 17:11:29 59m \u001b[32m\u001b[1mSUCCESS \u001b[0m \u001b[36marmory.instrument.config\u001b[0m:\u001b[36m_write\u001b[0m:\u001b[36m225\u001b[0m benign_mean_categorical_accuracy on benign examples w.r.t. ground truth labels: 15.38%\n",
            "2022-11-03 17:11:29 59m \u001b[32m\u001b[1mSUCCESS \u001b[0m \u001b[36marmory.instrument.config\u001b[0m:\u001b[36m_write\u001b[0m:\u001b[36m225\u001b[0m adversarial_mean_categorical_accuracy on adversarial examples w.r.t. ground truth labels: 0.00%\n",
            "2022-11-03 17:11:29 59m \u001b[32m\u001b[1mSUCCESS \u001b[0m \u001b[36marmory.instrument.config\u001b[0m:\u001b[36m_write\u001b[0m:\u001b[36m225\u001b[0m benign_carla_od_AP_per_class on benign examples w.r.t. ground truth labels: {'mean': 0.89500000000000002, 'class': {1: 0.93999999999999995, 2: 0.84999999999999998}}\n",
            "2022-11-03 17:11:29 59m \u001b[32m\u001b[1mSUCCESS \u001b[0m \u001b[36marmory.instrument.config\u001b[0m:\u001b[36m_write\u001b[0m:\u001b[36m225\u001b[0m adversarial_carla_od_AP_per_class on adversarial examples w.r.t. ground truth labels: {'mean': 0.69999999999999996, 'class': {1: 0.69999999999999996, 2: 0.69999999999999996}}\n",
            "2022-11-03 17:11:29 59m \u001b[32m\u001b[1mSUCCESS \u001b[0m \u001b[36marmory.instrument.config\u001b[0m:\u001b[36m_write\u001b[0m:\u001b[36m225\u001b[0m benign_mean_carla_od_disappearance_rate on benign examples w.r.t. ground truth labels: 30.00%\n",
            "2022-11-03 17:11:29 59m \u001b[32m\u001b[1mSUCCESS \u001b[0m \u001b[36marmory.instrument.config\u001b[0m:\u001b[36m_write\u001b[0m:\u001b[36m225\u001b[0m adversarial_mean_carla_od_disappearance_rate on adversarial examples w.r.t. ground truth labels: 30.00%\n",
            "2022-11-03 17:11:29 59m \u001b[32m\u001b[1mSUCCESS \u001b[0m \u001b[36marmory.instrument.config\u001b[0m:\u001b[36m_write\u001b[0m:\u001b[36m225\u001b[0m benign_mean_carla_od_hallucinations_per_image on benign examples w.r.t. ground truth labels: 1.0\n",
            "2022-11-03 17:11:30 59m \u001b[32m\u001b[1mSUCCESS \u001b[0m \u001b[36marmory.instrument.config\u001b[0m:\u001b[36m_write\u001b[0m:\u001b[36m225\u001b[0m adversarial_mean_carla_od_hallucinations_per_image on adversarial examples w.r.t. ground truth labels: 2.0\n",
            "2022-11-03 17:11:30 59m \u001b[32m\u001b[1mSUCCESS \u001b[0m \u001b[36marmory.instrument.config\u001b[0m:\u001b[36m_write\u001b[0m:\u001b[36m225\u001b[0m benign_mean_carla_od_misclassification_rate on benign examples w.r.t. ground truth labels: 0.00%\n",
            "2022-11-03 17:11:30 59m \u001b[32m\u001b[1mSUCCESS \u001b[0m \u001b[36marmory.instrument.config\u001b[0m:\u001b[36m_write\u001b[0m:\u001b[36m225\u001b[0m adversarial_mean_carla_od_misclassification_rate on adversarial examples w.r.t. ground truth labels: 10.00%\n",
            "2022-11-03 17:11:30 59m \u001b[32m\u001b[1mSUCCESS \u001b[0m \u001b[36marmory.instrument.config\u001b[0m:\u001b[36m_write\u001b[0m:\u001b[36m225\u001b[0m benign_mean_carla_od_true_positive_rate on benign examples w.r.t. ground truth labels: 70.00%\n",
            "2022-11-03 17:11:30 59m \u001b[32m\u001b[1mSUCCESS \u001b[0m \u001b[36marmory.instrument.config\u001b[0m:\u001b[36m_write\u001b[0m:\u001b[36m225\u001b[0m adversarial_mean_carla_od_true_positive_rate on adversarial examples w.r.t. ground truth labels: 60.00%\n",
            "2022-11-03 17:11:30 59m \u001b[32m\u001b[1mSUCCESS \u001b[0m \u001b[36marmory.instrument.config\u001b[0m:\u001b[36m_write\u001b[0m:\u001b[36m225\u001b[0m adversarial_carla_od_AP_per_class_wrt_benign_preds on adversarial examples w.r.t. benign predictions as labels: {'mean': 0.40500000000000003, 'class': {1: 0.45000000000000001, 2: 0.35999999999999999}}\n",
            "2022-11-03 17:11:30 59m \u001b[32m\u001b[1mSUCCESS \u001b[0m \u001b[36marmory.instrument.config\u001b[0m:\u001b[36m_write\u001b[0m:\u001b[36m225\u001b[0m adversarial_mean_carla_od_disappearance_rate_wrt_benign_preds on adversarial examples w.r.t. benign predictions as labels: 75.00%\n",
            "2022-11-03 17:11:30 59m \u001b[32m\u001b[1mSUCCESS \u001b[0m \u001b[36marmory.instrument.config\u001b[0m:\u001b[36m_write\u001b[0m:\u001b[36m225\u001b[0m adversarial_mean_carla_od_hallucinations_per_image_wrt_benign_preds on adversarial examples w.r.t. benign predictions as labels: 1.0\n",
            "2022-11-03 17:11:30 59m \u001b[32m\u001b[1mSUCCESS \u001b[0m \u001b[36marmory.instrument.config\u001b[0m:\u001b[36m_write\u001b[0m:\u001b[36m225\u001b[0m adversarial_mean_carla_od_misclassification_rate_wrt_benign_preds on adversarial examples w.r.t. benign predictions as labels: 5.00%\n",
            "2022-11-03 17:11:30 59m \u001b[32m\u001b[1mSUCCESS \u001b[0m \u001b[36marmory.instrument.config\u001b[0m:\u001b[36m_write\u001b[0m:\u001b[36m225\u001b[0m adversarial_mean_carla_od_true_positive_rate_wrt_benign_preds on adversarial examples w.r.t. benign predictions as labels: 20.00%\n",
            "2022-11-03 17:11:30 59m \u001b[32m\u001b[1mSUCCESS \u001b[0m \u001b[36marmory.instrument.config\u001b[0m:\u001b[36m_write\u001b[0m:\u001b[36m225\u001b[0m benign_carla_od_AP_per_class on benign examples w.r.t. ground truth labels: {'mean': 0.89500000000000002, 'class': {1: 0.93999999999999995, 2: 0.84999999999999998}}\n",
            "2022-11-03 17:11:30 59m \u001b[32m\u001b[1mSUCCESS \u001b[0m \u001b[36marmory.instrument.config\u001b[0m:\u001b[36m_write\u001b[0m:\u001b[36m225\u001b[0m adversarial_carla_od_AP_per_class on adversarial examples w.r.t. ground truth labels: {'mean': 0.69999999999999996, 'class': {1: 0.69999999999999996, 2: 0.69999999999999996}}\n",
            "2022-11-03 17:11:30 59m \u001b[32m\u001b[1mSUCCESS \u001b[0m \u001b[36marmory.instrument.config\u001b[0m:\u001b[36m_write\u001b[0m:\u001b[36m225\u001b[0m benign_mean_carla_od_disappearance_rate on benign examples w.r.t. ground truth labels: 30.00%\n",
            "2022-11-03 17:11:30 59m \u001b[32m\u001b[1mSUCCESS \u001b[0m \u001b[36marmory.instrument.config\u001b[0m:\u001b[36m_write\u001b[0m:\u001b[36m225\u001b[0m adversarial_mean_carla_od_disappearance_rate on adversarial examples w.r.t. ground truth labels: 30.00%\n",
            "2022-11-03 17:11:30 59m \u001b[32m\u001b[1mSUCCESS \u001b[0m \u001b[36marmory.instrument.config\u001b[0m:\u001b[36m_write\u001b[0m:\u001b[36m225\u001b[0m benign_mean_carla_od_hallucinations_per_image on benign examples w.r.t. ground truth labels: 1.0\n",
            "2022-11-03 17:11:30 59m2s \u001b[32m\u001b[1mSUCCESS \u001b[0m \u001b[36marmory.instrument.config\u001b[0m:\u001b[36m_write\u001b[0m:\u001b[36m225\u001b[0m adversarial_mean_carla_od_hallucinations_per_image on adversarial examples w.r.t. ground truth labels: 2.0\n",
            "2022-11-03 17:11:30 59m2s \u001b[32m\u001b[1mSUCCESS \u001b[0m \u001b[36marmory.instrument.config\u001b[0m:\u001b[36m_write\u001b[0m:\u001b[36m225\u001b[0m benign_mean_carla_od_misclassification_rate on benign examples w.r.t. ground truth labels: 0.00%\n",
            "2022-11-03 17:11:30 59m2s \u001b[32m\u001b[1mSUCCESS \u001b[0m \u001b[36marmory.instrument.config\u001b[0m:\u001b[36m_write\u001b[0m:\u001b[36m225\u001b[0m adversarial_mean_carla_od_misclassification_rate on adversarial examples w.r.t. ground truth labels: 10.00%\n",
            "2022-11-03 17:11:30 59m2s \u001b[32m\u001b[1mSUCCESS \u001b[0m \u001b[36marmory.instrument.config\u001b[0m:\u001b[36m_write\u001b[0m:\u001b[36m225\u001b[0m benign_mean_carla_od_true_positive_rate on benign examples w.r.t. ground truth labels: 70.00%\n",
            "2022-11-03 17:11:30 59m2s \u001b[32m\u001b[1mSUCCESS \u001b[0m \u001b[36marmory.instrument.config\u001b[0m:\u001b[36m_write\u001b[0m:\u001b[36m225\u001b[0m adversarial_mean_carla_od_true_positive_rate on adversarial examples w.r.t. ground truth labels: 60.00%\n",
            "2022-11-03 17:11:30 59m2s \u001b[32m\u001b[1mSUCCESS \u001b[0m \u001b[36marmory.instrument.config\u001b[0m:\u001b[36m_write\u001b[0m:\u001b[36m225\u001b[0m adversarial_carla_od_AP_per_class_wrt_benign_preds on adversarial examples w.r.t. benign predictions as labels: {'mean': 0.40500000000000003, 'class': {1: 0.45000000000000001, 2: 0.35999999999999999}}\n",
            "2022-11-03 17:11:30 59m2s \u001b[32m\u001b[1mSUCCESS \u001b[0m \u001b[36marmory.instrument.config\u001b[0m:\u001b[36m_write\u001b[0m:\u001b[36m225\u001b[0m adversarial_mean_carla_od_disappearance_rate_wrt_benign_preds on adversarial examples w.r.t. benign predictions as labels: 75.00%\n",
            "2022-11-03 17:11:30 59m2s \u001b[32m\u001b[1mSUCCESS \u001b[0m \u001b[36marmory.instrument.config\u001b[0m:\u001b[36m_write\u001b[0m:\u001b[36m225\u001b[0m adversarial_mean_carla_od_hallucinations_per_image_wrt_benign_preds on adversarial examples w.r.t. benign predictions as labels: 1.0\n",
            "2022-11-03 17:11:30 59m2s \u001b[32m\u001b[1mSUCCESS \u001b[0m \u001b[36marmory.instrument.config\u001b[0m:\u001b[36m_write\u001b[0m:\u001b[36m225\u001b[0m adversarial_mean_carla_od_misclassification_rate_wrt_benign_preds on adversarial examples w.r.t. benign predictions as labels: 5.00%\n",
            "2022-11-03 17:11:30 59m2s \u001b[32m\u001b[1mSUCCESS \u001b[0m \u001b[36marmory.instrument.config\u001b[0m:\u001b[36m_write\u001b[0m:\u001b[36m225\u001b[0m adversarial_mean_carla_od_true_positive_rate_wrt_benign_preds on adversarial examples w.r.t. benign predictions as labels: 20.00%\n"
          ]
        }
      ],
      "source": [
        "s.finalize_results()"
      ]
    },
    {
      "cell_type": "markdown",
      "metadata": {
        "id": "2qk-3jR0eWCK"
      },
      "source": [
        "Afterwards, you can then call `s.save()` to write the results JSON to the Armory output directory. Alternatively, if you'd like to return the results as a Python dictionary, call `s.prepare_results()`."
      ]
    },
    {
      "cell_type": "code",
      "execution_count": null,
      "metadata": {
        "colab": {
          "base_uri": "https://localhost:8080/"
        },
        "id": "Hqx7OnareWWS",
        "outputId": "93cc33f3-61a4-4df8-b361-3670d03d1300"
      },
      "outputs": [
        {
          "name": "stdout",
          "output_type": "stream",
          "text": [
            "dict_keys(['armory_version', 'config', 'results', 'timestamp'])\n"
          ]
        }
      ],
      "source": [
        "results_dict = s.prepare_results()\n",
        "print(results_dict.keys())"
      ]
    },
    {
      "cell_type": "code",
      "execution_count": null,
      "metadata": {
        "colab": {
          "base_uri": "https://localhost:8080/"
        },
        "id": "U_snGnEBeeAZ",
        "outputId": "cc6f5373-d26f-4cdb-c6b5-35407b10707a"
      },
      "outputs": [
        {
          "name": "stdout",
          "output_type": "stream",
          "text": [
            "{'benign_mean_categorical_accuracy': [0.15384615384615385], 'adversarial_mean_categorical_accuracy': [0.0], 'perturbation_mean_linf': [0.9843137264251709], 'benign_carla_od_AP_per_class': [{'mean': 0.89500000000000002, 'class': {1: 0.93999999999999995, 2: 0.84999999999999998}}, {'mean': 0.89500000000000002, 'class': {1: 0.93999999999999995, 2: 0.84999999999999998}}], 'adversarial_carla_od_AP_per_class': [{'mean': 0.69999999999999996, 'class': {1: 0.69999999999999996, 2: 0.69999999999999996}}, {'mean': 0.69999999999999996, 'class': {1: 0.69999999999999996, 2: 0.69999999999999996}}], 'benign_mean_carla_od_disappearance_rate': [0.30000000000000004, 0.30000000000000004], 'adversarial_mean_carla_od_disappearance_rate': [0.30000000000000004, 0.30000000000000004], 'benign_mean_carla_od_hallucinations_per_image': [1.0, 1.0], 'adversarial_mean_carla_od_hallucinations_per_image': [2.0, 2.0], 'benign_mean_carla_od_misclassification_rate': [0.0, 0.0], 'adversarial_mean_carla_od_misclassification_rate': [0.10000000000000001, 0.10000000000000001], 'benign_mean_carla_od_true_positive_rate': [0.69999999999999996, 0.69999999999999996], 'adversarial_mean_carla_od_true_positive_rate': [0.59999999999999998, 0.59999999999999998], 'perturbation_mean_l0': [14643.0, 14643.0], 'adversarial_carla_od_AP_per_class_wrt_benign_preds': [{'mean': 0.40500000000000003, 'class': {1: 0.45000000000000001, 2: 0.35999999999999999}}, {'mean': 0.40500000000000003, 'class': {1: 0.45000000000000001, 2: 0.35999999999999999}}], 'adversarial_mean_carla_od_disappearance_rate_wrt_benign_preds': [0.75, 0.75], 'adversarial_mean_carla_od_hallucinations_per_image_wrt_benign_preds': [1.0, 1.0], 'adversarial_mean_carla_od_misclassification_rate_wrt_benign_preds': [0.050000000000000003, 0.050000000000000003], 'adversarial_mean_carla_od_true_positive_rate_wrt_benign_preds': [0.20000000000000001, 0.20000000000000001], 'compute': {}}\n"
          ]
        }
      ],
      "source": [
        "print(results_dict[\"results\"])"
      ]
    },
    {
      "cell_type": "code",
      "execution_count": null,
      "metadata": {
        "id": "VGk2ZeRheXDJ"
      },
      "outputs": [],
      "source": [
        "s.save()"
      ]
    }
  ],
  "metadata": {
    "colab": {
      "collapsed_sections": [],
      "provenance": []
    },
    "kernelspec": {
      "display_name": "Python 3",
      "name": "python3"
    },
    "language_info": {
      "name": "python"
    },
    "widgets": {
      "application/vnd.jupyter.widget-state+json": {
        "0c3019e915814aba9bfe004aa3d37711": {
          "model_module": "@jupyter-widgets/controls",
          "model_module_version": "1.5.0",
          "model_name": "FloatProgressModel",
          "state": {
            "_dom_classes": [],
            "_model_module": "@jupyter-widgets/controls",
            "_model_module_version": "1.5.0",
            "_model_name": "FloatProgressModel",
            "_view_count": null,
            "_view_module": "@jupyter-widgets/controls",
            "_view_module_version": "1.5.0",
            "_view_name": "ProgressView",
            "bar_style": "success",
            "description": "",
            "description_tooltip": null,
            "layout": "IPY_MODEL_f58a5250d36b40148f78351567ee0218",
            "max": 5,
            "min": 0,
            "orientation": "horizontal",
            "style": "IPY_MODEL_2387afba2e2b4f96ad418f02bb1de8c1",
            "value": 5
          }
        },
        "2387afba2e2b4f96ad418f02bb1de8c1": {
          "model_module": "@jupyter-widgets/controls",
          "model_module_version": "1.5.0",
          "model_name": "ProgressStyleModel",
          "state": {
            "_model_module": "@jupyter-widgets/controls",
            "_model_module_version": "1.5.0",
            "_model_name": "ProgressStyleModel",
            "_view_count": null,
            "_view_module": "@jupyter-widgets/base",
            "_view_module_version": "1.2.0",
            "_view_name": "StyleView",
            "bar_color": null,
            "description_width": ""
          }
        },
        "23fde7c55f4643dbba8f2b6af7abe9ca": {
          "model_module": "@jupyter-widgets/base",
          "model_module_version": "1.2.0",
          "model_name": "LayoutModel",
          "state": {
            "_model_module": "@jupyter-widgets/base",
            "_model_module_version": "1.2.0",
            "_model_name": "LayoutModel",
            "_view_count": null,
            "_view_module": "@jupyter-widgets/base",
            "_view_module_version": "1.2.0",
            "_view_name": "LayoutView",
            "align_content": null,
            "align_items": null,
            "align_self": null,
            "border": null,
            "bottom": null,
            "display": null,
            "flex": null,
            "flex_flow": null,
            "grid_area": null,
            "grid_auto_columns": null,
            "grid_auto_flow": null,
            "grid_auto_rows": null,
            "grid_column": null,
            "grid_gap": null,
            "grid_row": null,
            "grid_template_areas": null,
            "grid_template_columns": null,
            "grid_template_rows": null,
            "height": null,
            "justify_content": null,
            "justify_items": null,
            "left": null,
            "margin": null,
            "max_height": null,
            "max_width": null,
            "min_height": null,
            "min_width": null,
            "object_fit": null,
            "object_position": null,
            "order": null,
            "overflow": null,
            "overflow_x": null,
            "overflow_y": null,
            "padding": null,
            "right": null,
            "top": null,
            "visibility": null,
            "width": null
          }
        },
        "33861620027b409eaaf9963b3196525e": {
          "model_module": "@jupyter-widgets/controls",
          "model_module_version": "1.5.0",
          "model_name": "DescriptionStyleModel",
          "state": {
            "_model_module": "@jupyter-widgets/controls",
            "_model_module_version": "1.5.0",
            "_model_name": "DescriptionStyleModel",
            "_view_count": null,
            "_view_module": "@jupyter-widgets/base",
            "_view_module_version": "1.2.0",
            "_view_name": "StyleView",
            "description_width": ""
          }
        },
        "47c34300a11c4bb5b9a6178e5ffe88fa": {
          "model_module": "@jupyter-widgets/base",
          "model_module_version": "1.2.0",
          "model_name": "LayoutModel",
          "state": {
            "_model_module": "@jupyter-widgets/base",
            "_model_module_version": "1.2.0",
            "_model_name": "LayoutModel",
            "_view_count": null,
            "_view_module": "@jupyter-widgets/base",
            "_view_module_version": "1.2.0",
            "_view_name": "LayoutView",
            "align_content": null,
            "align_items": null,
            "align_self": null,
            "border": null,
            "bottom": null,
            "display": null,
            "flex": null,
            "flex_flow": null,
            "grid_area": null,
            "grid_auto_columns": null,
            "grid_auto_flow": null,
            "grid_auto_rows": null,
            "grid_column": null,
            "grid_gap": null,
            "grid_row": null,
            "grid_template_areas": null,
            "grid_template_columns": null,
            "grid_template_rows": null,
            "height": null,
            "justify_content": null,
            "justify_items": null,
            "left": null,
            "margin": null,
            "max_height": null,
            "max_width": null,
            "min_height": null,
            "min_width": null,
            "object_fit": null,
            "object_position": null,
            "order": null,
            "overflow": null,
            "overflow_x": null,
            "overflow_y": null,
            "padding": null,
            "right": null,
            "top": null,
            "visibility": null,
            "width": null
          }
        },
        "502f6cf5af5f4643aaee03a44dd3d431": {
          "model_module": "@jupyter-widgets/controls",
          "model_module_version": "1.5.0",
          "model_name": "ImageModel",
          "state": {
            "_dom_classes": [],
            "_model_module": "@jupyter-widgets/controls",
            "_model_module_version": "1.5.0",
            "_model_name": "ImageModel",
            "_view_count": null,
            "_view_module": "@jupyter-widgets/controls",
            "_view_module_version": "1.5.0",
            "_view_name": "ImageView",
            "format": "jpg",
            "height": "500",
            "layout": "IPY_MODEL_23fde7c55f4643dbba8f2b6af7abe9ca",
            "width": "500"
          }
        },
        "50cdb87f43664112bbe9fd7815a3a31c": {
          "model_module": "@jupyter-widgets/controls",
          "model_module_version": "1.5.0",
          "model_name": "HTMLModel",
          "state": {
            "_dom_classes": [],
            "_model_module": "@jupyter-widgets/controls",
            "_model_module_version": "1.5.0",
            "_model_name": "HTMLModel",
            "_view_count": null,
            "_view_module": "@jupyter-widgets/controls",
            "_view_module_version": "1.5.0",
            "_view_name": "HTMLView",
            "description": "",
            "description_tooltip": null,
            "layout": "IPY_MODEL_86164d218e9d4078bea5b506d115b3c7",
            "placeholder": "​",
            "style": "IPY_MODEL_9eb98744d5234fef8abacb2684f39f50",
            "value": " 5/5 [02:15&lt;00:00, 26.76s/it]"
          }
        },
        "65c45c8fc6b2432199f88c4fe83dbe1c": {
          "model_module": "@jupyter-widgets/base",
          "model_module_version": "1.2.0",
          "model_name": "LayoutModel",
          "state": {
            "_model_module": "@jupyter-widgets/base",
            "_model_module_version": "1.2.0",
            "_model_name": "LayoutModel",
            "_view_count": null,
            "_view_module": "@jupyter-widgets/base",
            "_view_module_version": "1.2.0",
            "_view_name": "LayoutView",
            "align_content": null,
            "align_items": null,
            "align_self": null,
            "border": null,
            "bottom": null,
            "display": null,
            "flex": null,
            "flex_flow": null,
            "grid_area": null,
            "grid_auto_columns": null,
            "grid_auto_flow": null,
            "grid_auto_rows": null,
            "grid_column": null,
            "grid_gap": null,
            "grid_row": null,
            "grid_template_areas": null,
            "grid_template_columns": null,
            "grid_template_rows": null,
            "height": null,
            "justify_content": null,
            "justify_items": null,
            "left": null,
            "margin": null,
            "max_height": null,
            "max_width": null,
            "min_height": null,
            "min_width": null,
            "object_fit": null,
            "object_position": null,
            "order": null,
            "overflow": null,
            "overflow_x": null,
            "overflow_y": null,
            "padding": null,
            "right": null,
            "top": null,
            "visibility": null,
            "width": null
          }
        },
        "73ca8fd5fa5a453f995a01df5b77a2d7": {
          "model_module": "@jupyter-widgets/base",
          "model_module_version": "1.2.0",
          "model_name": "LayoutModel",
          "state": {
            "_model_module": "@jupyter-widgets/base",
            "_model_module_version": "1.2.0",
            "_model_name": "LayoutModel",
            "_view_count": null,
            "_view_module": "@jupyter-widgets/base",
            "_view_module_version": "1.2.0",
            "_view_name": "LayoutView",
            "align_content": null,
            "align_items": null,
            "align_self": null,
            "border": null,
            "bottom": null,
            "display": null,
            "flex": null,
            "flex_flow": null,
            "grid_area": null,
            "grid_auto_columns": null,
            "grid_auto_flow": null,
            "grid_auto_rows": null,
            "grid_column": null,
            "grid_gap": null,
            "grid_row": null,
            "grid_template_areas": null,
            "grid_template_columns": null,
            "grid_template_rows": null,
            "height": null,
            "justify_content": null,
            "justify_items": null,
            "left": null,
            "margin": null,
            "max_height": null,
            "max_width": null,
            "min_height": null,
            "min_width": null,
            "object_fit": null,
            "object_position": null,
            "order": null,
            "overflow": null,
            "overflow_x": null,
            "overflow_y": null,
            "padding": null,
            "right": null,
            "top": null,
            "visibility": null,
            "width": null
          }
        },
        "8357debfcc554d409e82ffc43c6c6395": {
          "model_module": "@jupyter-widgets/controls",
          "model_module_version": "1.5.0",
          "model_name": "HBoxModel",
          "state": {
            "_dom_classes": [],
            "_model_module": "@jupyter-widgets/controls",
            "_model_module_version": "1.5.0",
            "_model_name": "HBoxModel",
            "_view_count": null,
            "_view_module": "@jupyter-widgets/controls",
            "_view_module_version": "1.5.0",
            "_view_name": "HBoxView",
            "box_style": "",
            "children": [
              "IPY_MODEL_e956c9ed2ba74a9c8c31d5a8a29dc7d5",
              "IPY_MODEL_0c3019e915814aba9bfe004aa3d37711",
              "IPY_MODEL_50cdb87f43664112bbe9fd7815a3a31c"
            ],
            "layout": "IPY_MODEL_73ca8fd5fa5a453f995a01df5b77a2d7"
          }
        },
        "86164d218e9d4078bea5b506d115b3c7": {
          "model_module": "@jupyter-widgets/base",
          "model_module_version": "1.2.0",
          "model_name": "LayoutModel",
          "state": {
            "_model_module": "@jupyter-widgets/base",
            "_model_module_version": "1.2.0",
            "_model_name": "LayoutModel",
            "_view_count": null,
            "_view_module": "@jupyter-widgets/base",
            "_view_module_version": "1.2.0",
            "_view_name": "LayoutView",
            "align_content": null,
            "align_items": null,
            "align_self": null,
            "border": null,
            "bottom": null,
            "display": null,
            "flex": null,
            "flex_flow": null,
            "grid_area": null,
            "grid_auto_columns": null,
            "grid_auto_flow": null,
            "grid_auto_rows": null,
            "grid_column": null,
            "grid_gap": null,
            "grid_row": null,
            "grid_template_areas": null,
            "grid_template_columns": null,
            "grid_template_rows": null,
            "height": null,
            "justify_content": null,
            "justify_items": null,
            "left": null,
            "margin": null,
            "max_height": null,
            "max_width": null,
            "min_height": null,
            "min_width": null,
            "object_fit": null,
            "object_position": null,
            "order": null,
            "overflow": null,
            "overflow_x": null,
            "overflow_y": null,
            "padding": null,
            "right": null,
            "top": null,
            "visibility": null,
            "width": null
          }
        },
        "8dc6a818ef034c4c8fafcd7ca2b94ec9": {
          "model_module": "@jupyter-widgets/controls",
          "model_module_version": "1.5.0",
          "model_name": "ImageModel",
          "state": {
            "_dom_classes": [],
            "_model_module": "@jupyter-widgets/controls",
            "_model_module_version": "1.5.0",
            "_model_name": "ImageModel",
            "_view_count": null,
            "_view_module": "@jupyter-widgets/controls",
            "_view_module_version": "1.5.0",
            "_view_name": "ImageView",
            "format": "jpg",
            "height": "500",
            "layout": "IPY_MODEL_d1238de130e54b45afac04cc8c3f8665",
            "width": "500"
          }
        },
        "95272ac8d3b244e687d37334922c735a": {
          "model_module": "@jupyter-widgets/controls",
          "model_module_version": "1.5.0",
          "model_name": "HBoxModel",
          "state": {
            "_dom_classes": [],
            "_model_module": "@jupyter-widgets/controls",
            "_model_module_version": "1.5.0",
            "_model_name": "HBoxModel",
            "_view_count": null,
            "_view_module": "@jupyter-widgets/controls",
            "_view_module_version": "1.5.0",
            "_view_name": "HBoxView",
            "box_style": "",
            "children": [
              "IPY_MODEL_8dc6a818ef034c4c8fafcd7ca2b94ec9",
              "IPY_MODEL_502f6cf5af5f4643aaee03a44dd3d431"
            ],
            "layout": "IPY_MODEL_47c34300a11c4bb5b9a6178e5ffe88fa"
          }
        },
        "9eb98744d5234fef8abacb2684f39f50": {
          "model_module": "@jupyter-widgets/controls",
          "model_module_version": "1.5.0",
          "model_name": "DescriptionStyleModel",
          "state": {
            "_model_module": "@jupyter-widgets/controls",
            "_model_module_version": "1.5.0",
            "_model_name": "DescriptionStyleModel",
            "_view_count": null,
            "_view_module": "@jupyter-widgets/base",
            "_view_module_version": "1.2.0",
            "_view_name": "StyleView",
            "description_width": ""
          }
        },
        "d1238de130e54b45afac04cc8c3f8665": {
          "model_module": "@jupyter-widgets/base",
          "model_module_version": "1.2.0",
          "model_name": "LayoutModel",
          "state": {
            "_model_module": "@jupyter-widgets/base",
            "_model_module_version": "1.2.0",
            "_model_name": "LayoutModel",
            "_view_count": null,
            "_view_module": "@jupyter-widgets/base",
            "_view_module_version": "1.2.0",
            "_view_name": "LayoutView",
            "align_content": null,
            "align_items": null,
            "align_self": null,
            "border": null,
            "bottom": null,
            "display": null,
            "flex": null,
            "flex_flow": null,
            "grid_area": null,
            "grid_auto_columns": null,
            "grid_auto_flow": null,
            "grid_auto_rows": null,
            "grid_column": null,
            "grid_gap": null,
            "grid_row": null,
            "grid_template_areas": null,
            "grid_template_columns": null,
            "grid_template_rows": null,
            "height": null,
            "justify_content": null,
            "justify_items": null,
            "left": null,
            "margin": null,
            "max_height": null,
            "max_width": null,
            "min_height": null,
            "min_width": null,
            "object_fit": null,
            "object_position": null,
            "order": null,
            "overflow": null,
            "overflow_x": null,
            "overflow_y": null,
            "padding": null,
            "right": null,
            "top": null,
            "visibility": null,
            "width": null
          }
        },
        "e956c9ed2ba74a9c8c31d5a8a29dc7d5": {
          "model_module": "@jupyter-widgets/controls",
          "model_module_version": "1.5.0",
          "model_name": "HTMLModel",
          "state": {
            "_dom_classes": [],
            "_model_module": "@jupyter-widgets/controls",
            "_model_module_version": "1.5.0",
            "_model_name": "HTMLModel",
            "_view_count": null,
            "_view_module": "@jupyter-widgets/controls",
            "_view_module_version": "1.5.0",
            "_view_name": "HTMLView",
            "description": "",
            "description_tooltip": null,
            "layout": "IPY_MODEL_65c45c8fc6b2432199f88c4fe83dbe1c",
            "placeholder": "​",
            "style": "IPY_MODEL_33861620027b409eaaf9963b3196525e",
            "value": "RobustDPatch iteration: 100%"
          }
        },
        "f58a5250d36b40148f78351567ee0218": {
          "model_module": "@jupyter-widgets/base",
          "model_module_version": "1.2.0",
          "model_name": "LayoutModel",
          "state": {
            "_model_module": "@jupyter-widgets/base",
            "_model_module_version": "1.2.0",
            "_model_name": "LayoutModel",
            "_view_count": null,
            "_view_module": "@jupyter-widgets/base",
            "_view_module_version": "1.2.0",
            "_view_name": "LayoutView",
            "align_content": null,
            "align_items": null,
            "align_self": null,
            "border": null,
            "bottom": null,
            "display": null,
            "flex": null,
            "flex_flow": null,
            "grid_area": null,
            "grid_auto_columns": null,
            "grid_auto_flow": null,
            "grid_auto_rows": null,
            "grid_column": null,
            "grid_gap": null,
            "grid_row": null,
            "grid_template_areas": null,
            "grid_template_columns": null,
            "grid_template_rows": null,
            "height": null,
            "justify_content": null,
            "justify_items": null,
            "left": null,
            "margin": null,
            "max_height": null,
            "max_width": null,
            "min_height": null,
            "min_width": null,
            "object_fit": null,
            "object_position": null,
            "order": null,
            "overflow": null,
            "overflow_x": null,
            "overflow_y": null,
            "padding": null,
            "right": null,
            "top": null,
            "visibility": null,
            "width": null
          }
        }
      }
    }
  },
  "nbformat": 4,
  "nbformat_minor": 0
}